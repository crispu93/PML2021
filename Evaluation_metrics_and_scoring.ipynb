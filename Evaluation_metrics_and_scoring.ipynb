{
  "nbformat": 4,
  "nbformat_minor": 0,
  "metadata": {
    "colab": {
      "name": "Evaluation metrics and scoring",
      "provenance": [],
      "collapsed_sections": [],
      "authorship_tag": "ABX9TyNPR08yA75nzd/gat6caJCs",
      "include_colab_link": true
    },
    "kernelspec": {
      "name": "python3",
      "display_name": "Python 3"
    },
    "language_info": {
      "name": "python"
    }
  },
  "cells": [
    {
      "cell_type": "markdown",
      "metadata": {
        "id": "view-in-github",
        "colab_type": "text"
      },
      "source": [
        "<a href=\"https://colab.research.google.com/github/crispu93/PML2021/blob/main/Evaluation_metrics_and_scoring.ipynb\" target=\"_parent\"><img src=\"https://colab.research.google.com/assets/colab-badge.svg\" alt=\"Open In Colab\"/></a>"
      ]
    },
    {
      "cell_type": "markdown",
      "metadata": {
        "id": "dz0K0FQId0QB"
      },
      "source": [
        "# Evaluation metrics and scoring\n",
        "Es importante elegir la métrica correcta cuando se elige entre varios modelos y se ajustan los parámetros del modelo.\n",
        "\n",
        "- **Ejemplo 1.**\n",
        "Se tiene una aplicación para la detección de cáncer usando un test automatizado.\n",
        "Si el test es negativo, el paciente se supone como sano. Si el test es positivo, el paciente es sometido a más estudios.\n",
        "Dos tipos de errores: \n",
        "1. El paciente está sano y el test sale positivo\n",
        "2. El paciente está enfermo y el test sale negativo\n",
        "\n",
        "A estos errores se les conoce como falso positivo y falso negativo respectivamente.\n",
        "En el ejemplo del cáncer queremos evitar tantos falsos negativos como sea posible.\n",
        "\n",
        "- **Ejemplo 2.**\n",
        "La tarea es predecir cuando un usuario de internet dará click a un item publicitario, dará click (mostrando interés) o no. La mayoría de los anuncios de internet no resultan en un click. Podría pasar que para que un usuario de click a un anuncio, a éste se le sean mostrados 100 anuncios. En otras palabras el dataset consiste de 1% (click) y 99% (no-click).\n",
        "\n",
        "Podemos crear un clasificador con 99% de accuracy, pero eso no toma en cuenta el desbalance en las clases."
      ]
    },
    {
      "cell_type": "markdown",
      "metadata": {
        "id": "J0l5fChdfiF5"
      },
      "source": [
        "## Ejemplo. Clasificador del dígito 9"
      ]
    },
    {
      "cell_type": "markdown",
      "metadata": {
        "id": "t0gNA2T0gg7D"
      },
      "source": [
        "### Creación del dataset"
      ]
    },
    {
      "cell_type": "code",
      "metadata": {
        "id": "VN8UvVB1fcpp",
        "colab": {
          "base_uri": "https://localhost:8080/"
        },
        "outputId": "bb652881-c6a7-4477-849d-77b84a60e13f"
      },
      "source": [
        "from sklearn.datasets import load_digits \n",
        "from sklearn.model_selection import train_test_split\n",
        "\n",
        "digits = load_digits()\n",
        "## 1 a todos los que son 9 y 0 a los que no\n",
        "y = (digits.target == 9)\n",
        "X_train, X_test, y_train, y_test = train_test_split(\n",
        "digits.data, y, random_state=0)\n",
        "\n",
        "print(X_train.shape)\n",
        "print(X_test.shape)"
      ],
      "execution_count": 1,
      "outputs": [
        {
          "output_type": "stream",
          "name": "stdout",
          "text": [
            "(1347, 64)\n",
            "(450, 64)\n"
          ]
        }
      ]
    },
    {
      "cell_type": "markdown",
      "metadata": {
        "id": "Ubdctd7-gcAc"
      },
      "source": [
        "### Clasificador que siempre predice la clase mayoritaria"
      ]
    },
    {
      "cell_type": "code",
      "metadata": {
        "colab": {
          "base_uri": "https://localhost:8080/"
        },
        "id": "WMizYizJglfK",
        "outputId": "2f3a5e83-1393-4ad9-d878-5583ce2e3bf7"
      },
      "source": [
        "import numpy as np\n",
        "from sklearn.dummy import DummyClassifier\n",
        "\n",
        "dummy_majority = DummyClassifier(strategy='most_frequent').fit(X_train, y_train) \n",
        "pred_most_frequent = dummy_majority.predict(X_test)\n",
        "print(\"Unique predicted labels: {}\".format(np.unique(pred_most_frequent)))\n",
        "print(\"Test score: {:.2f}\".format(dummy_majority.score(X_test, y_test)))"
      ],
      "execution_count": 2,
      "outputs": [
        {
          "output_type": "stream",
          "name": "stdout",
          "text": [
            "Unique predicted labels: [False]\n",
            "Test score: 0.90\n"
          ]
        }
      ]
    },
    {
      "cell_type": "markdown",
      "metadata": {
        "id": "1eNvuWxYVZ1g"
      },
      "source": [
        "Se obtuvo un accuracy de 90% sin haber aprendido nada"
      ]
    },
    {
      "cell_type": "markdown",
      "metadata": {
        "id": "p7AEI4NFcaP9"
      },
      "source": [
        "### Clasificador con árboles de decisión"
      ]
    },
    {
      "cell_type": "code",
      "metadata": {
        "colab": {
          "base_uri": "https://localhost:8080/"
        },
        "id": "_dZl7ADZcvhV",
        "outputId": "46f050a5-0c92-4fb2-e3ce-c3ceb69193a3"
      },
      "source": [
        "from sklearn.tree import DecisionTreeClassifier\n",
        "tree = DecisionTreeClassifier(max_depth=2).fit(X_train, y_train) \n",
        "pred_tree = tree.predict(X_test)\n",
        "print(\"Test score: {:.2f}\".format(tree.score(X_test, y_test)))"
      ],
      "execution_count": 3,
      "outputs": [
        {
          "output_type": "stream",
          "name": "stdout",
          "text": [
            "Test score: 0.92\n"
          ]
        }
      ]
    },
    {
      "cell_type": "markdown",
      "metadata": {
        "id": "lznrQTt4gtej"
      },
      "source": [
        "### Clasificador que hace predicciones aleatorias pero produce clases con la misma proporción que el conjunto de entrenamiento"
      ]
    },
    {
      "cell_type": "code",
      "metadata": {
        "colab": {
          "base_uri": "https://localhost:8080/"
        },
        "id": "HEFNzEM-gyLw",
        "outputId": "288f41c9-8644-4ab3-c8da-0b6123725f12"
      },
      "source": [
        "import warnings\n",
        "warnings.filterwarnings('ignore')\n",
        "\n",
        "dummy = DummyClassifier().fit(X_train, y_train)\n",
        "pred_dummy = dummy.predict(X_test)\n",
        "print(\"dummy score: {:.2f}\".format(dummy.score(X_test, y_test)))"
      ],
      "execution_count": 4,
      "outputs": [
        {
          "output_type": "stream",
          "name": "stdout",
          "text": [
            "dummy score: 0.81\n"
          ]
        }
      ]
    },
    {
      "cell_type": "markdown",
      "metadata": {
        "id": "UeZdW2MveUTP"
      },
      "source": [
        "### Clasificador con regresión logística"
      ]
    },
    {
      "cell_type": "code",
      "metadata": {
        "colab": {
          "base_uri": "https://localhost:8080/"
        },
        "id": "u39rlU-aeWin",
        "outputId": "2f7c670b-971b-4795-94c0-c0365c21980d"
      },
      "source": [
        "from sklearn.linear_model import LogisticRegression\n",
        "\n",
        "logreg = LogisticRegression(C=0.1).fit(X_train, y_train) \n",
        "pred_logreg = logreg.predict(X_test)\n",
        "print(\"logreg score: {:.2f}\".format(logreg.score(X_test, y_test)))"
      ],
      "execution_count": 5,
      "outputs": [
        {
          "output_type": "stream",
          "name": "stdout",
          "text": [
            "logreg score: 0.98\n"
          ]
        }
      ]
    },
    {
      "cell_type": "markdown",
      "metadata": {
        "id": "in0crWHvYgqN"
      },
      "source": [
        "Un clasificador aleatorio obtiene más de 80% de accuracy. Se vuelve dificil de juzgar cual de todos los resultados es realmente útil.\n",
        "\n",
        "Acurracy puede llegar a no ser la mejor medida de desempeño en dos situaciones particulares: Cuando se tienen variables con objetivo multi clase o cuando se tienen clases desbalanceadas.\n",
        "\n",
        "Por ejemplo, cuando se tienen 3 o más clases y un clasificador con 80% de accuracy, no podemos saber si es porque todas las clases se predicen igual de bien o hay una o dos clases que están siendo negadas por el modelo."
      ]
    },
    {
      "cell_type": "markdown",
      "metadata": {
        "id": "yKnIxP-ZZEEI"
      },
      "source": [
        "## Métricas basadas en la matriz de confusión"
      ]
    },
    {
      "cell_type": "markdown",
      "metadata": {
        "id": "HBHtgZXOZN9w"
      },
      "source": [
        "### Matriz de confusión\n",
        "Provee una de las mejores formas de representar las evaluaciones de un clasificador binario\n",
        "\n",
        "Insert image"
      ]
    },
    {
      "cell_type": "code",
      "metadata": {
        "colab": {
          "base_uri": "https://localhost:8080/"
        },
        "id": "2j0JASGoZ6ac",
        "outputId": "69be31a6-fd5d-49fc-a1d1-909857de76f9"
      },
      "source": [
        "from sklearn.metrics import confusion_matrix\n",
        "\n",
        "print(\"Most frequent class:\") \n",
        "print(confusion_matrix(y_test, pred_most_frequent)) \n",
        "print(\"\\nDummy model:\") \n",
        "print(confusion_matrix(y_test, pred_dummy)) \n",
        "print(\"\\nDummy model:\") \n",
        "print(confusion_matrix(y_test, pred_tree)) \n",
        "print(\"\\nLogistic Regression\") \n",
        "print(confusion_matrix(y_test, pred_logreg))\n"
      ],
      "execution_count": 6,
      "outputs": [
        {
          "output_type": "stream",
          "name": "stdout",
          "text": [
            "Most frequent class:\n",
            "[[403   0]\n",
            " [ 47   0]]\n",
            "\n",
            "Dummy model:\n",
            "[[364  39]\n",
            " [ 44   3]]\n",
            "\n",
            "Dummy model:\n",
            "[[390  13]\n",
            " [ 24  23]]\n",
            "\n",
            "Logistic Regression\n",
            "[[402   1]\n",
            " [  6  41]]\n"
          ]
        }
      ]
    },
    {
      "cell_type": "markdown",
      "metadata": {
        "id": "YkIUhNoRdHj7"
      },
      "source": [
        "1. En el primer caso solamente se predice una clase\n",
        "2. En el *Dummy model* tiene un número pequeño de *true positives* y hay más *false positives* que *true positives* (revisar la última columna)\n",
        "3. Las predicciones hechas con un árbol de decisión parecen ser mejores que las anteriores, pero el accuracy es parecido\n",
        "4. Tiene menos falsos positivos y falsos negativos"
      ]
    },
    {
      "cell_type": "markdown",
      "metadata": {
        "id": "Kb5F6I1ug5r_"
      },
      "source": [
        "### Relación de la matriz de confusión con accuracy"
      ]
    },
    {
      "cell_type": "markdown",
      "metadata": {
        "id": "3t17lJwyhotG"
      },
      "source": [
        "accuracy es el número de predicciones correctas dividido entre el número de muestras\n",
        "\n",
        "$${accuracy} = \\frac{TP + TN}{TP + TN + FP + FN}$$\n",
        "\n",
        "Para resumir la información de la matriz de confusión existen otras métricas, siendo las más comunes $precision$ y $recall$\n",
        "\n",
        "\n"
      ]
    },
    {
      "cell_type": "markdown",
      "metadata": {
        "id": "YyrGcCBXjPry"
      },
      "source": [
        "### Precision and recall\n",
        "\n",
        "$precision$ mide cuantas de las muestras que se predijeron como positivas, son realmente positivas.\n",
        "\n",
        "$$precision = \\frac{TP}{TP + FP}$$\n",
        "\n",
        "\n",
        "Se usa como medida de desempeño cuando el objetivo es limitar el número de falsos positivos. También es conocida como *positive predictive value (PPV)*\n",
        "\n",
        "$recall$, por otro lado, mide cuantas de las muestras positivas son capturadas por prediciones positivas\n",
        "\n",
        "$$recall = \\frac{TP}{TP+FN}$$\n",
        "\n",
        "Se usa como medida de desempeño cuando el objetivo es identificar todas las muestras positivas, es decir, evitar los falsos negativos. También se le conoce como *sensitivity* o *True Positive Rate (TPR)*"
      ]
    },
    {
      "cell_type": "markdown",
      "metadata": {
        "id": "eN38NZnboD3-"
      },
      "source": [
        "### $F_1$-score\n",
        "Una forma de resumir dos medidas tan importantes como $precision$ y $recall$ es usar la media armónica, que penaliza los valores extremos\n",
        "\n",
        "$$F_1 = \\frac{2}{\\frac{1}{precision}+\\frac{1}{recall}}$$\n",
        "\n",
        "Una desventaja del $F_1$-score es que es más difícil de interpretar y explicar que la $accuracy$"
      ]
    },
    {
      "cell_type": "markdown",
      "metadata": {
        "id": "UDgYw90jrhkb"
      },
      "source": [
        "### Ejemplo. Clasificador del dígito 9 (continuación)"
      ]
    },
    {
      "cell_type": "code",
      "metadata": {
        "colab": {
          "base_uri": "https://localhost:8080/"
        },
        "id": "pm0AoMBFrria",
        "outputId": "58799ddf-d1ee-4215-8c40-3b7840c5ab2d"
      },
      "source": [
        "from sklearn.metrics import f1_score \n",
        "\n",
        "print(\"f1 score most frequent: {:.2f}\".format( f1_score(y_test, pred_most_frequent)))\n",
        "print(\"f1 score dummy: {:.2f}\".format(f1_score(y_test, pred_dummy))) \n",
        "print(\"f1 score tree: {:.2f}\".format(f1_score(y_test, pred_tree))) \n",
        "print(\"f1 score logistic regression: {:.2f}\".format(f1_score(y_test, pred_logreg)))"
      ],
      "execution_count": 7,
      "outputs": [
        {
          "output_type": "stream",
          "name": "stdout",
          "text": [
            "f1 score most frequent: 0.00\n",
            "f1 score dummy: 0.07\n",
            "f1 score tree: 0.55\n",
            "f1 score logistic regression: 0.92\n"
          ]
        }
      ]
    },
    {
      "cell_type": "code",
      "metadata": {
        "colab": {
          "base_uri": "https://localhost:8080/"
        },
        "id": "gAVYvUhHrx06",
        "outputId": "68a8d807-48d4-4675-fcde-bb6c7c81dd6a"
      },
      "source": [
        "from sklearn.metrics import classification_report \n",
        "\n",
        "print(classification_report(y_test, pred_tree, \n",
        "                            target_names=[\"not nine\", \"nine\"]))"
      ],
      "execution_count": 8,
      "outputs": [
        {
          "output_type": "stream",
          "name": "stdout",
          "text": [
            "              precision    recall  f1-score   support\n",
            "\n",
            "    not nine       0.94      0.97      0.95       403\n",
            "        nine       0.64      0.49      0.55        47\n",
            "\n",
            "    accuracy                           0.92       450\n",
            "   macro avg       0.79      0.73      0.75       450\n",
            "weighted avg       0.91      0.92      0.91       450\n",
            "\n"
          ]
        }
      ]
    },
    {
      "cell_type": "code",
      "metadata": {
        "colab": {
          "base_uri": "https://localhost:8080/"
        },
        "id": "tH9SNsTJZBUJ",
        "outputId": "00d5c442-acd3-40b0-cc92-10facd27e999"
      },
      "source": [
        "\n",
        "print(classification_report(y_test, pred_dummy, \n",
        "                            target_names=[\"not nine\", \"nine\"]))"
      ],
      "execution_count": 9,
      "outputs": [
        {
          "output_type": "stream",
          "name": "stdout",
          "text": [
            "              precision    recall  f1-score   support\n",
            "\n",
            "    not nine       0.89      0.90      0.90       403\n",
            "        nine       0.07      0.06      0.07        47\n",
            "\n",
            "    accuracy                           0.82       450\n",
            "   macro avg       0.48      0.48      0.48       450\n",
            "weighted avg       0.81      0.82      0.81       450\n",
            "\n"
          ]
        }
      ]
    },
    {
      "cell_type": "code",
      "metadata": {
        "id": "gkb3eHgXuNVo",
        "colab": {
          "base_uri": "https://localhost:8080/"
        },
        "outputId": "de9aeda7-088e-4800-8463-3946de55bcd1"
      },
      "source": [
        "print(classification_report(y_test, pred_logreg, \n",
        "                            target_names=[\"not nine\", \"nine\"]))"
      ],
      "execution_count": 10,
      "outputs": [
        {
          "output_type": "stream",
          "name": "stdout",
          "text": [
            "              precision    recall  f1-score   support\n",
            "\n",
            "    not nine       0.99      1.00      0.99       403\n",
            "        nine       0.98      0.87      0.92        47\n",
            "\n",
            "    accuracy                           0.98       450\n",
            "   macro avg       0.98      0.93      0.96       450\n",
            "weighted avg       0.98      0.98      0.98       450\n",
            "\n"
          ]
        }
      ]
    }
  ]
}