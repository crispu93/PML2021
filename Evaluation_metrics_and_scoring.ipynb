{
  "nbformat": 4,
  "nbformat_minor": 0,
  "metadata": {
    "colab": {
      "name": "Evaluation metrics and scoring",
      "provenance": [],
      "authorship_tag": "ABX9TyPWIX48vrIXOrfp4g9Kj8MU",
      "include_colab_link": true
    },
    "kernelspec": {
      "name": "python3",
      "display_name": "Python 3"
    },
    "language_info": {
      "name": "python"
    }
  },
  "cells": [
    {
      "cell_type": "markdown",
      "metadata": {
        "id": "view-in-github",
        "colab_type": "text"
      },
      "source": [
        "<a href=\"https://colab.research.google.com/github/crispu93/PML2021/blob/main/Evaluation_metrics_and_scoring.ipynb\" target=\"_parent\"><img src=\"https://colab.research.google.com/assets/colab-badge.svg\" alt=\"Open In Colab\"/></a>"
      ]
    },
    {
      "cell_type": "markdown",
      "metadata": {
        "id": "dz0K0FQId0QB"
      },
      "source": [
        "# Evaluation metrics and scoring\n",
        "Es importante elegir la métrica correcta cuando se elige entre varios modelos y se ajustan los parámetros del modelo.\n",
        "\n",
        "- **Ejemplo 1.**\n",
        "Se tiene una aplicación para la detección de cancer usando un test automatizado.\n",
        "Si el test es negativo, el paciente se supone como sano. Si el test es positivo, el paciente es sometido a más estudios.\n",
        "Dos tipos de errores: \n",
        "1. El paciente está sano y el test sale positivo\n",
        "2. El paciente está enfermo y el test sale negativo\n",
        "\n",
        "A estos errores se les conoce como falso positivo y falso negativo respectivamente.\n",
        "En el ejemplo del cancer queremos evitar tantos falsos negativos como sea posible.\n",
        "\n",
        "- **Ejemplo 2.**\n",
        "La tarea es predecir cuando un usuario de internet dará click a un item publicitario, dará click (mostrando interés) o no. La mayoría de los anuncios de internet no resultan en un click. Podría pasar que para que un usuario de click a un anuncio, a éste se le sean mostrados 100 anuncios. En otras palabras el dataset consiste de 1% (click) y 99% (no-click).\n",
        "\n",
        "Podemos crear un clasificador con 99% de accuracy, pero eso no toma en cuenta el desbalance en las clases."
      ]
    },
    {
      "cell_type": "markdown",
      "metadata": {
        "id": "J0l5fChdfiF5"
      },
      "source": [
        "## Ejemplo. Clasificador del dígito 9"
      ]
    },
    {
      "cell_type": "markdown",
      "metadata": {
        "id": "t0gNA2T0gg7D"
      },
      "source": [
        "### Creación del dataset"
      ]
    },
    {
      "cell_type": "code",
      "metadata": {
        "id": "VN8UvVB1fcpp"
      },
      "source": [
        "from sklearn.datasets import load_digits \n",
        "from sklearn.model_selection import train_test_split\n",
        "\n",
        "digits = load_digits()\n",
        "## 1 a todos los que son 9 y 0 a los que no\n",
        "y = (digits.target == 9)\n",
        "X_train, X_test, y_train, y_test = train_test_split(\n",
        "digits.data, y, random_state=0)"
      ],
      "execution_count": 1,
      "outputs": []
    },
    {
      "cell_type": "markdown",
      "metadata": {
        "id": "Ubdctd7-gcAc"
      },
      "source": [
        "### Clasificador que siempre predice la clase mayoritaria"
      ]
    },
    {
      "cell_type": "code",
      "metadata": {
        "colab": {
          "base_uri": "https://localhost:8080/"
        },
        "id": "WMizYizJglfK",
        "outputId": "bd3f6cee-c547-4f78-b164-66262f14f56a"
      },
      "source": [
        "from sklearn.dummy import DummyClassifier\n",
        "import numpy as np\n",
        "\n",
        "dummy_majority = DummyClassifier(strategy='most_frequent').fit(X_train, y_train) \n",
        "pred_most_frequent = dummy_majority.predict(X_test)\n",
        "print(\"Unique predicted labels: {}\".format(np.unique(pred_most_frequent)))\n",
        "print(\"Test score: {:.2f}\".format(dummy_majority.score(X_test, y_test)))"
      ],
      "execution_count": 2,
      "outputs": [
        {
          "output_type": "stream",
          "name": "stdout",
          "text": [
            "Unique predicted labels: [False]\n",
            "Test score: 0.90\n"
          ]
        }
      ]
    },
    {
      "cell_type": "markdown",
      "metadata": {
        "id": "lznrQTt4gtej"
      },
      "source": [
        "### Clasificador que hace predicciones aleatorias pero produce clases con la misma proporción que el conjunto de entrenamiento"
      ]
    },
    {
      "cell_type": "code",
      "metadata": {
        "colab": {
          "base_uri": "https://localhost:8080/"
        },
        "id": "HEFNzEM-gyLw",
        "outputId": "0699c78b-f81b-40db-f379-c51928dec6cb"
      },
      "source": [
        "import warnings\n",
        "warnings.filterwarnings('ignore')\n",
        "\n",
        "dummy = DummyClassifier().fit(X_train, y_train)\n",
        "pred_dummy = dummy.predict(X_test)\n",
        "print(\"dummy score: {:.2f}\".format(dummy.score(X_test, y_test)))"
      ],
      "execution_count": 4,
      "outputs": [
        {
          "output_type": "stream",
          "name": "stdout",
          "text": [
            "dummy score: 0.84\n"
          ]
        }
      ]
    },
    {
      "cell_type": "code",
      "metadata": {
        "id": "_nj_QaVbhs0U"
      },
      "source": [
        ""
      ],
      "execution_count": null,
      "outputs": []
    }
  ]
}