{
  "nbformat": 4,
  "nbformat_minor": 0,
  "metadata": {
    "colab": {
      "name": "Evaluation metrics and scoring",
      "provenance": [],
      "authorship_tag": "ABX9TyNy0t0WvhnIwUYZEFqwEUUI",
      "include_colab_link": true
    },
    "kernelspec": {
      "name": "python3",
      "display_name": "Python 3"
    },
    "language_info": {
      "name": "python"
    }
  },
  "cells": [
    {
      "cell_type": "markdown",
      "metadata": {
        "id": "view-in-github",
        "colab_type": "text"
      },
      "source": [
        "<a href=\"https://colab.research.google.com/github/crispu93/PML2021/blob/main/Evaluation_metrics_and_scoring.ipynb\" target=\"_parent\"><img src=\"https://colab.research.google.com/assets/colab-badge.svg\" alt=\"Open In Colab\"/></a>"
      ]
    },
    {
      "cell_type": "markdown",
      "metadata": {
        "id": "dz0K0FQId0QB"
      },
      "source": [
        "# Evaluation metrics and scoring\n",
        "Es importante elegir la métrica correcta cuando se elige entre varios modelos y se ajustan los parámetros del modelo.\n",
        "\n",
        "- **Ejemplo 1.**\n",
        "Se tiene una aplicación para la detección de cancer usando un test automatizado.\n",
        "Si el test es negativo, el paciente se supone como sano. Si el test es positivo, el paciente es sometido a más estudios.\n",
        "Dos tipos de errores: \n",
        "1. El paciente está sano y el test sale positivo\n",
        "2. El paciente está enfermo y el test sale negativo\n",
        "\n",
        "A estos errores se les conoce como falso positivo y falso negativo respectivamente.\n",
        "En el ejemplo del cancer queremos evitar tantos falsos negativos como sea posible.\n",
        "\n",
        "- **Ejemplo 2.**\n",
        "La tarea es predecir cuando un usuario de internet dará click a un item publicitario, dará click (mostrando interés) o no. La mayoría de los anuncios de internet no resultan en un click. Podría pasar que para que un usuario de click a un anuncio, a éste se le sean mostrados 100 anuncios. En otras palabras el dataset consiste de 1% (click) y 99% (no-click).\n",
        "\n",
        "Podemos crear un clasificador con 99% de accuracy, pero eso no toma en cuenta el desbalance en las clases."
      ]
    },
    {
      "cell_type": "code",
      "metadata": {
        "id": "H5Aez8GSd3vA"
      },
      "source": [
        ""
      ],
      "execution_count": null,
      "outputs": []
    }
  ]
}